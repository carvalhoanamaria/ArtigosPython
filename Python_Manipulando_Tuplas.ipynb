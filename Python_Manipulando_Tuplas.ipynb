{
  "nbformat": 4,
  "nbformat_minor": 0,
  "metadata": {
    "colab": {
      "name": "Python - Manipulando Tuplas.ipynb",
      "provenance": [],
      "authorship_tag": "ABX9TyOqlrxDUGtwJHHNc8tPryVA",
      "include_colab_link": true
    },
    "kernelspec": {
      "name": "python3",
      "display_name": "Python 3"
    }
  },
  "cells": [
    {
      "cell_type": "markdown",
      "metadata": {
        "id": "view-in-github",
        "colab_type": "text"
      },
      "source": [
        "<a href=\"https://colab.research.google.com/github/carvalhoanamaria/ArtigosPython/blob/master/Python_Manipulando_Tuplas.ipynb\" target=\"_parent\"><img src=\"https://colab.research.google.com/assets/colab-badge.svg\" alt=\"Open In Colab\"/></a>"
      ]
    },
    {
      "cell_type": "markdown",
      "metadata": {
        "id": "H0OysIhv4XK1",
        "colab_type": "text"
      },
      "source": [
        "<center><img src=\"https://github.com/carvalhoanamaria/Imagens/blob/master/ManipulandoTuplas.png\"></center>"
      ]
    },
    {
      "cell_type": "code",
      "metadata": {
        "id": "s7hG8rtA3fKW",
        "colab_type": "code",
        "colab": {}
      },
      "source": [
        ""
      ],
      "execution_count": 0,
      "outputs": []
    }
  ]
}