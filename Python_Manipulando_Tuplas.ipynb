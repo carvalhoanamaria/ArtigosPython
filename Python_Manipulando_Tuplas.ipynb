{
  "nbformat": 4,
  "nbformat_minor": 0,
  "metadata": {
    "colab": {
      "name": "Python - Manipulando Tuplas.ipynb",
      "provenance": [],
      "authorship_tag": "ABX9TyOljw4b9AGNMSv73p31Jlqk",
      "include_colab_link": true
    },
    "kernelspec": {
      "name": "python3",
      "display_name": "Python 3"
    }
  },
  "cells": [
    {
      "cell_type": "markdown",
      "metadata": {
        "id": "view-in-github",
        "colab_type": "text"
      },
      "source": [
        "<a href=\"https://colab.research.google.com/github/carvalhoanamaria/ArtigosPython/blob/master/Python_Manipulando_Tuplas.ipynb\" target=\"_parent\"><img src=\"https://colab.research.google.com/assets/colab-badge.svg\" alt=\"Open In Colab\"/></a>"
      ]
    },
    {
      "cell_type": "markdown",
      "metadata": {
        "id": "H0OysIhv4XK1",
        "colab_type": "text"
      },
      "source": [
        "# <center>Python - Manipulando Tuplas</center>\n",
        "\n",
        "<center><img src=\"https://github.com/carvalhoanamaria/ArtigosPython/blob/master/Imagens/Tuplas/pythonTuplas.jpg?raw=1\"></center>\n",
        "\n",
        "As tuplas na linguagem de programação Python é um tipo de dado (objeto interno) composto, onde pode-se alocar vários elementos de qualquer tipo (heterogênea) em **sequência**, permitindo assim, acessar cada elemento pelo índice, verificar seu tamanho e certificar se há um elemento dentro do objeto ou não. A tuplas também que a característica de não permitir modificações (**imutável**)."
      ]
    },
    {
      "cell_type": "markdown",
      "metadata": {
        "id": "dUvD6tQT_iHl",
        "colab_type": "text"
      },
      "source": [
        "## **A sintaxe do objeto tupla é:**"
      ]
    },
    {
      "cell_type": "markdown",
      "metadata": {
        "id": "13eSRjHw_m1b",
        "colab_type": "text"
      },
      "source": [
        "A tupla tem como sintaxe os parênteses `( )` onde são alocado os elementos, separado por vírgula."
      ]
    },
    {
      "cell_type": "code",
      "metadata": {
        "id": "pbBlygYt_mKT",
        "colab_type": "code",
        "colab": {}
      },
      "source": [
        "minha_tupla = ()"
      ],
      "execution_count": 0,
      "outputs": []
    },
    {
      "cell_type": "code",
      "metadata": {
        "id": "7An9Qvu9_2Gt",
        "colab_type": "code",
        "outputId": "1c94e801-ce3d-455c-cb6d-7689cca34d94",
        "colab": {
          "base_uri": "https://localhost:8080/",
          "height": 33
        }
      },
      "source": [
        "type(minha_tupla)"
      ],
      "execution_count": 0,
      "outputs": [
        {
          "output_type": "execute_result",
          "data": {
            "text/plain": [
              "tuple"
            ]
          },
          "metadata": {
            "tags": []
          },
          "execution_count": 2
        }
      ]
    },
    {
      "cell_type": "markdown",
      "metadata": {
        "id": "cqTaCnfNANmK",
        "colab_type": "text"
      },
      "source": [
        "## **Manipulando Tuplas**"
      ]
    },
    {
      "cell_type": "markdown",
      "metadata": {
        "id": "M8kNbCqMAVEj",
        "colab_type": "text"
      },
      "source": [
        "Por esse objeto ser imutável, seus elementos uma vez alocados não podem ser removidos, alterado ou adicionado outro no mesmo índice."
      ]
    },
    {
      "cell_type": "code",
      "metadata": {
        "id": "CsVzAehmAXAa",
        "colab_type": "code",
        "colab": {}
      },
      "source": [
        "#Demostração de uma tupla onde contém as coordenadas de latitude e longitude de Ottawa — Canadá.\n",
        "coordenadas_Ottawa = (45.4208,-75.69)"
      ],
      "execution_count": 0,
      "outputs": []
    },
    {
      "cell_type": "code",
      "metadata": {
        "id": "sZiskUDCAXYf",
        "colab_type": "code",
        "outputId": "2a7d78c5-c16d-4e20-98e3-b9ef3bf1ebdf",
        "colab": {
          "base_uri": "https://localhost:8080/",
          "height": 33
        }
      },
      "source": [
        "type(coordenadas_Ottawa)"
      ],
      "execution_count": 0,
      "outputs": [
        {
          "output_type": "execute_result",
          "data": {
            "text/plain": [
              "tuple"
            ]
          },
          "metadata": {
            "tags": []
          },
          "execution_count": 4
        }
      ]
    },
    {
      "cell_type": "code",
      "metadata": {
        "id": "orKN971DCfSQ",
        "colab_type": "code",
        "colab": {}
      },
      "source": [
        "#Demostração de como uma tupla é alocado computacionalmente."
      ],
      "execution_count": 0,
      "outputs": []
    },
    {
      "cell_type": "markdown",
      "metadata": {
        "id": "5qHWbrrTA27i",
        "colab_type": "text"
      },
      "source": [
        "\n",
        "\n",
        "<center><img src=\"https://github.com/carvalhoanamaria/ArtigosPython/blob/master/Imagens/tuplaComputacional.png?raw=1\"></center>\n"
      ]
    },
    {
      "cell_type": "markdown",
      "metadata": {
        "id": "cMpyUByaB4JY",
        "colab_type": "text"
      },
      "source": [
        "## **Selecionado elementos**"
      ]
    },
    {
      "cell_type": "markdown",
      "metadata": {
        "id": "D53I-OuEB8qD",
        "colab_type": "text"
      },
      "source": [
        "Para selecionar um elemento basta informar seu índice."
      ]
    },
    {
      "cell_type": "code",
      "metadata": {
        "id": "aq0vYm06B-d7",
        "colab_type": "code",
        "outputId": "5e6aeb61-1312-4bef-e74e-e1e532c4a93b",
        "colab": {
          "base_uri": "https://localhost:8080/",
          "height": 33
        }
      },
      "source": [
        "coordenadas_Ottawa"
      ],
      "execution_count": 0,
      "outputs": [
        {
          "output_type": "execute_result",
          "data": {
            "text/plain": [
              "(45.4208, -75.69)"
            ]
          },
          "metadata": {
            "tags": []
          },
          "execution_count": 5
        }
      ]
    },
    {
      "cell_type": "code",
      "metadata": {
        "id": "cPpmE3O7CFh6",
        "colab_type": "code",
        "outputId": "a8046130-088f-4fd5-c717-2d65976cb80d",
        "colab": {
          "base_uri": "https://localhost:8080/",
          "height": 33
        }
      },
      "source": [
        "#Selecionando o índice 0 da tupla coordenadas_Ottawa.\n",
        "coordenadas_Ottawa[0]"
      ],
      "execution_count": 0,
      "outputs": [
        {
          "output_type": "execute_result",
          "data": {
            "text/plain": [
              "45.4208"
            ]
          },
          "metadata": {
            "tags": []
          },
          "execution_count": 6
        }
      ]
    },
    {
      "cell_type": "code",
      "metadata": {
        "id": "AIsD6teACH2a",
        "colab_type": "code",
        "outputId": "d6bb1029-8177-4dca-b046-1ed56681234b",
        "colab": {
          "base_uri": "https://localhost:8080/",
          "height": 33
        }
      },
      "source": [
        "#Selecionando o índice 1 da tupla coordenadas_Ottawa\n",
        "coordenadas_Ottawa[1]"
      ],
      "execution_count": 0,
      "outputs": [
        {
          "output_type": "execute_result",
          "data": {
            "text/plain": [
              "-75.69"
            ]
          },
          "metadata": {
            "tags": []
          },
          "execution_count": 7
        }
      ]
    },
    {
      "cell_type": "markdown",
      "metadata": {
        "id": "Ed3h8yA9CjEu",
        "colab_type": "text"
      },
      "source": [
        "## **Verificando se um elemento contém na tupla**"
      ]
    },
    {
      "cell_type": "markdown",
      "metadata": {
        "id": "xEg-isL7Cmyw",
        "colab_type": "text"
      },
      "source": [
        "Para verificar se um elemento contém no objeto tupla utiliza-se o operador `in` (contém). Retornando True quando na tupla existe o elemento passado e false quando não existir."
      ]
    },
    {
      "cell_type": "code",
      "metadata": {
        "id": "5CMtEmpsCsZD",
        "colab_type": "code",
        "colab": {}
      },
      "source": [
        "#Existe o item na tupla.\n",
        "coordenadas_Ottawa = (45.4208,-75.69)"
      ],
      "execution_count": 0,
      "outputs": []
    },
    {
      "cell_type": "code",
      "metadata": {
        "id": "hQWl6XWTCxD3",
        "colab_type": "code",
        "outputId": "0c25ba39-40e9-4522-b0bd-f63545546b19",
        "colab": {
          "base_uri": "https://localhost:8080/",
          "height": 33
        }
      },
      "source": [
        "-75.69 in coordenadas_Ottawa"
      ],
      "execution_count": 0,
      "outputs": [
        {
          "output_type": "execute_result",
          "data": {
            "text/plain": [
              "True"
            ]
          },
          "metadata": {
            "tags": []
          },
          "execution_count": 9
        }
      ]
    },
    {
      "cell_type": "code",
      "metadata": {
        "id": "5CvVJf3nDV5t",
        "colab_type": "code",
        "outputId": "c63d0f00-b2cc-4010-dd2a-6068f4ef121c",
        "colab": {
          "base_uri": "https://localhost:8080/",
          "height": 33
        }
      },
      "source": [
        "#Não existe o item na tupla.\n",
        "80.78 in coordenadas_Ottawa"
      ],
      "execution_count": 0,
      "outputs": [
        {
          "output_type": "execute_result",
          "data": {
            "text/plain": [
              "False"
            ]
          },
          "metadata": {
            "tags": []
          },
          "execution_count": 10
        }
      ]
    },
    {
      "cell_type": "markdown",
      "metadata": {
        "id": "X3ABn3-bDpLQ",
        "colab_type": "text"
      },
      "source": [
        "## **Verificando tamanho da tupla**"
      ]
    },
    {
      "cell_type": "markdown",
      "metadata": {
        "id": "HCb5lYsKDvlv",
        "colab_type": "text"
      },
      "source": [
        "Para obter o valor da quantidade de elementos que estão dentro da tupla utiliza-se a função `len`(ler)."
      ]
    },
    {
      "cell_type": "code",
      "metadata": {
        "id": "RmV1F5h5DzPM",
        "colab_type": "code",
        "colab": {}
      },
      "source": [
        "coordenadas_Ottawa = (45.4208,-75.69)"
      ],
      "execution_count": 0,
      "outputs": []
    },
    {
      "cell_type": "code",
      "metadata": {
        "id": "tQOycOSAD2lE",
        "colab_type": "code",
        "outputId": "6bb04ad3-fa2b-4ff1-c5a3-ceed852b4617",
        "colab": {
          "base_uri": "https://localhost:8080/",
          "height": 33
        }
      },
      "source": [
        "# O tamanho da tupla é 2, contendo 2 itens.\n",
        "len(coordenadas_Ottawa)"
      ],
      "execution_count": 0,
      "outputs": [
        {
          "output_type": "execute_result",
          "data": {
            "text/plain": [
              "2"
            ]
          },
          "metadata": {
            "tags": []
          },
          "execution_count": 12
        }
      ]
    },
    {
      "cell_type": "markdown",
      "metadata": {
        "id": "7NgbDvVgEHa5",
        "colab_type": "text"
      },
      "source": [
        "## **Percorrendo tuplas com operador de fatia**"
      ]
    },
    {
      "cell_type": "markdown",
      "metadata": {
        "id": "24fS_syzEJvI",
        "colab_type": "text"
      },
      "source": [
        "Ao percorrer a tupla é permitido passar instruções de inicio, parada e passo dentro dos parênteses retos [ ].\n",
        "\n",
        "\n",
        "---\n",
        "\n",
        "\n",
        "\n",
        "`[inicio:parada]`\n",
        "\n",
        "\n",
        "Inicia do índice informado (`inicio`) e percorre até um índice antes do informado para parada (`parada`).\n",
        "\n"
      ]
    },
    {
      "cell_type": "code",
      "metadata": {
        "id": "M6xEXe-nEWKJ",
        "colab_type": "code",
        "colab": {}
      },
      "source": [
        "UF_Brasil = ('TO','BA','PE','SP','DF','MG')"
      ],
      "execution_count": 0,
      "outputs": []
    },
    {
      "cell_type": "code",
      "metadata": {
        "id": "ELpYrl4iEfsq",
        "colab_type": "code",
        "outputId": "817461d5-7417-4ebc-cb4d-37ba020abe9a",
        "colab": {
          "base_uri": "https://localhost:8080/",
          "height": 33
        }
      },
      "source": [
        "#Demostração da utilização do operador [:]\n",
        "UF_Brasil [0:4]"
      ],
      "execution_count": 0,
      "outputs": [
        {
          "output_type": "execute_result",
          "data": {
            "text/plain": [
              "('TO', 'BA', 'PE', 'SP')"
            ]
          },
          "metadata": {
            "tags": []
          },
          "execution_count": 14
        }
      ]
    },
    {
      "cell_type": "code",
      "metadata": {
        "id": "mxtFHb2hFC4L",
        "colab_type": "code",
        "colab": {}
      },
      "source": [
        "#Demostração da utilização do operador [:] computacionalmente."
      ],
      "execution_count": 0,
      "outputs": []
    },
    {
      "cell_type": "markdown",
      "metadata": {
        "id": "2ByCT1S4EoXe",
        "colab_type": "text"
      },
      "source": [
        "<center><img src=\"https://github.com/carvalhoanamaria/ArtigosPython/blob/master/Imagens/demostracaoOperadorCompTp.png?raw=1\"></center>"
      ]
    },
    {
      "cell_type": "markdown",
      "metadata": {
        "id": "f-BdbOlqFGGM",
        "colab_type": "text"
      },
      "source": [
        "\n",
        "\n",
        "---\n",
        "\n",
        "`[inicio:parada:intervalos]`\n",
        "\n",
        "Inicia do índice informado (`inicio`), percorre até um índice antes do informado para parada (`parada`) em intervalos (`intervalos`).\n"
      ]
    },
    {
      "cell_type": "code",
      "metadata": {
        "id": "67C4WVxVFYQE",
        "colab_type": "code",
        "colab": {}
      },
      "source": [
        "UF_Brasil = ('TO','BA','PE','SP','DF','MG','CE','MA','RJ','PR','SC')"
      ],
      "execution_count": 0,
      "outputs": []
    },
    {
      "cell_type": "code",
      "metadata": {
        "id": "J0cjacJ9GGdY",
        "colab_type": "code",
        "colab": {}
      },
      "source": [
        ""
      ],
      "execution_count": 0,
      "outputs": []
    },
    {
      "cell_type": "code",
      "metadata": {
        "id": "vMtOesyzFkYq",
        "colab_type": "code",
        "outputId": "bd51f0aa-a064-41a1-da9f-52c8a371b47c",
        "colab": {
          "base_uri": "https://localhost:8080/",
          "height": 33
        }
      },
      "source": [
        "UF_Brasil[0:9:2]"
      ],
      "execution_count": 0,
      "outputs": [
        {
          "output_type": "execute_result",
          "data": {
            "text/plain": [
              "('TO', 'PE', 'DF', 'CE', 'RJ')"
            ]
          },
          "metadata": {
            "tags": []
          },
          "execution_count": 16
        }
      ]
    },
    {
      "cell_type": "code",
      "metadata": {
        "id": "OqvflqiIGDOT",
        "colab_type": "code",
        "colab": {}
      },
      "source": [
        "#Demostração da utilização do operador [: :] computacionalmente."
      ],
      "execution_count": 0,
      "outputs": []
    },
    {
      "cell_type": "markdown",
      "metadata": {
        "id": "DYpthGXYFzB_",
        "colab_type": "text"
      },
      "source": [
        "\n",
        "<center><img src=\"https://github.com/carvalhoanamaria/ArtigosPython/blob/master/Imagens/tuplaComputacional2.png?raw=1\"></center>"
      ]
    },
    {
      "cell_type": "markdown",
      "metadata": {
        "id": "SUvQ7iMHGSn5",
        "colab_type": "text"
      },
      "source": [
        "# <center>**Bibliografia:**<center>\n",
        "<center>\n",
        "\n",
        "Eduardo, Luis. **Python para Desenvolvedores**. 2ªed. Rio de Janeiro,2010 (pg. 43-45).\n",
        "\n",
        "Luiz, Mark. **Aprendendo Python**. 2ªed. Bookman, 2007 (p.132- 135).\n",
        "\n",
        "<center>"
      ]
    }
  ]
}