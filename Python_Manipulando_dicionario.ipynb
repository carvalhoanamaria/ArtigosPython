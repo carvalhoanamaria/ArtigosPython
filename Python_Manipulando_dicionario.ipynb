{
  "nbformat": 4,
  "nbformat_minor": 0,
  "metadata": {
    "colab": {
      "name": "Python - Manipulando dicionario.ipynb",
      "provenance": [],
      "collapsed_sections": [],
      "authorship_tag": "ABX9TyPb6wgS7PDLsgbQo9MXznOa",
      "include_colab_link": true
    },
    "kernelspec": {
      "name": "python3",
      "display_name": "Python 3"
    }
  },
  "cells": [
    {
      "cell_type": "markdown",
      "metadata": {
        "id": "view-in-github",
        "colab_type": "text"
      },
      "source": [
        "<a href=\"https://colab.research.google.com/github/carvalhoanamaria/ArtigosPython/blob/master/Python_Manipulando_dicionario.ipynb\" target=\"_parent\"><img src=\"https://colab.research.google.com/assets/colab-badge.svg\" alt=\"Open In Colab\"/></a>"
      ]
    },
    {
      "cell_type": "markdown",
      "metadata": {
        "id": "Ks6dqoO-tgLA",
        "colab_type": "text"
      },
      "source": [
        "# **<center>Python — Manipulando Dicionários</center>**\n",
        "\n",
        "<center><img src=\"https://github.com/carvalhoanamaria/ArtigosPython/blob/master/Imagens/Dicionarios/pythonDicionario.jpg?raw=1\"></center>"
      ]
    },
    {
      "cell_type": "markdown",
      "metadata": {
        "id": "prpr4tIgzl-m",
        "colab_type": "text"
      },
      "source": [
        "Os dicionários na linguagem de programação Python é um tipo de dado interno, considerado como coleções desordenadas de comprimento variável e que contém elementos heterogêneos. Tendo como principal característica seus elementos armazenados e acessados pela chave, em vez do deslocamento posicional. O Dicionário também possui como propriedade elemento mutável, porém sua chave é do tipo imutável.\n",
        "\n",
        "Os dicionários também são chamados de tabela de hash (recuperação rápida), pois são associados a pares de chave (índice) a elementos."
      ]
    },
    {
      "cell_type": "markdown",
      "metadata": {
        "id": "RV8NZPbDz7v1",
        "colab_type": "text"
      },
      "source": [
        "## **A sintaxe do objeto dicionário**\n",
        "\n",
        "\n",
        "\n"
      ]
    },
    {
      "cell_type": "markdown",
      "metadata": {
        "id": "5BXqICyA0FUA",
        "colab_type": "text"
      },
      "source": [
        "O dicionário tem como sintaxe as chaves `{ }` para a criação do objeto, onde é alocado a chave indexada com dois pontos `:` ao elemento correspondeste. Cada par é separado por vírgula."
      ]
    },
    {
      "cell_type": "code",
      "metadata": {
        "id": "norNYqV-tXok",
        "colab_type": "code",
        "colab": {}
      },
      "source": [
        "#Criação do dicionário.\n",
        "meu_dicionario = {}"
      ],
      "execution_count": 0,
      "outputs": []
    },
    {
      "cell_type": "code",
      "metadata": {
        "id": "g35d0KKi0X7T",
        "colab_type": "code",
        "colab": {
          "base_uri": "https://localhost:8080/",
          "height": 33
        },
        "outputId": "a1db492c-3a17-408a-832b-cbf5dc234ba6"
      },
      "source": [
        "type(meu_dicionario)"
      ],
      "execution_count": 2,
      "outputs": [
        {
          "output_type": "execute_result",
          "data": {
            "text/plain": [
              "dict"
            ]
          },
          "metadata": {
            "tags": []
          },
          "execution_count": 2
        }
      ]
    },
    {
      "cell_type": "markdown",
      "metadata": {
        "id": "kpWprqJi0r23",
        "colab_type": "text"
      },
      "source": [
        "## **Manipulando Dicionário**"
      ]
    },
    {
      "cell_type": "markdown",
      "metadata": {
        "id": "S94lMUlO0vvj",
        "colab_type": "text"
      },
      "source": [
        "Como já mencionado o dicionário é um objeto que é mapeamento de chaves e elementos correspondentes. Como o exemplo abaixo."
      ]
    },
    {
      "cell_type": "code",
      "metadata": {
        "id": "0bEs9Zbe0rFE",
        "colab_type": "code",
        "colab": {}
      },
      "source": [
        "#Demonstração de um dicionário contendo como chave a unidades federativa e como elementos o nome do estado.\n",
        "UF_Brasil = {'TO':'Tocantins','GO':'Goiás','DF':'Distrito Federal','MG':'Minas Gerais'}"
      ],
      "execution_count": 0,
      "outputs": []
    },
    {
      "cell_type": "code",
      "metadata": {
        "id": "ZZ-SKtXr01XX",
        "colab_type": "code",
        "colab": {
          "base_uri": "https://localhost:8080/",
          "height": 33
        },
        "outputId": "aa22ac69-4415-475c-fb58-0d5bf47dedb8"
      },
      "source": [
        "type(UF_Brasil)"
      ],
      "execution_count": 5,
      "outputs": [
        {
          "output_type": "execute_result",
          "data": {
            "text/plain": [
              "dict"
            ]
          },
          "metadata": {
            "tags": []
          },
          "execution_count": 5
        }
      ]
    },
    {
      "cell_type": "code",
      "metadata": {
        "id": "GQqRE2MB1X75",
        "colab_type": "code",
        "colab": {}
      },
      "source": [
        "#Demostração de como um dicionário é alocado computacionalmente."
      ],
      "execution_count": 0,
      "outputs": []
    },
    {
      "cell_type": "markdown",
      "metadata": {
        "id": "DrpSOKCB08rz",
        "colab_type": "text"
      },
      "source": [
        "<center><img src=\"https://github.com/carvalhoanamaria/ArtigosPython/blob/master/Imagens/Dicionarios/dicionarioComputacional.png?raw=1\"></center>"
      ]
    },
    {
      "cell_type": "markdown",
      "metadata": {
        "id": "l3_K0te41Zqk",
        "colab_type": "text"
      },
      "source": [
        "## **Adicionando elementos**"
      ]
    },
    {
      "cell_type": "markdown",
      "metadata": {
        "id": "U9yc_gte1djn",
        "colab_type": "text"
      },
      "source": [
        "Para adicionar mais elementos em um dicionário basta atribuir uma nova chave ao um elemento. (Obs: No objeto dicionário o método `*append()*` não existe)."
      ]
    },
    {
      "cell_type": "code",
      "metadata": {
        "id": "JKH4uHVk1ccU",
        "colab_type": "code",
        "colab": {}
      },
      "source": [
        "UF_Brasil = {'TO':'Tocantins','GO':'Goiás','DF':'Distrito Federal','MG':'Minas Gerais'}"
      ],
      "execution_count": 0,
      "outputs": []
    },
    {
      "cell_type": "code",
      "metadata": {
        "id": "LxDlIA041liX",
        "colab_type": "code",
        "colab": {
          "base_uri": "https://localhost:8080/",
          "height": 83
        },
        "outputId": "61d76f8a-574c-4feb-9292-4a7822563c67"
      },
      "source": [
        "UF_Brasil"
      ],
      "execution_count": 7,
      "outputs": [
        {
          "output_type": "execute_result",
          "data": {
            "text/plain": [
              "{'DF': 'Distrito Federal',\n",
              " 'GO': 'Goiás',\n",
              " 'MG': 'Minas Gerais',\n",
              " 'TO': 'Tocantins'}"
            ]
          },
          "metadata": {
            "tags": []
          },
          "execution_count": 7
        }
      ]
    },
    {
      "cell_type": "code",
      "metadata": {
        "id": "Ss6-VbqV1mzw",
        "colab_type": "code",
        "colab": {}
      },
      "source": [
        "#Adicionando uma nova chave definida como BA junto ao elemento definido como Bahia no dicionário.\n",
        "UF_Brasil['BA']='Bahia'"
      ],
      "execution_count": 0,
      "outputs": []
    },
    {
      "cell_type": "code",
      "metadata": {
        "id": "tWfmJpmw1q4b",
        "colab_type": "code",
        "colab": {
          "base_uri": "https://localhost:8080/",
          "height": 100
        },
        "outputId": "2f919bbd-33b9-4d42-b00e-a0f371961018"
      },
      "source": [
        "UF_Brasil"
      ],
      "execution_count": 9,
      "outputs": [
        {
          "output_type": "execute_result",
          "data": {
            "text/plain": [
              "{'BA': 'Bahia',\n",
              " 'DF': 'Distrito Federal',\n",
              " 'GO': 'Goiás',\n",
              " 'MG': 'Minas Gerais',\n",
              " 'TO': 'Tocantins'}"
            ]
          },
          "metadata": {
            "tags": []
          },
          "execution_count": 9
        }
      ]
    },
    {
      "cell_type": "markdown",
      "metadata": {
        "id": "ldi9rZMw2IQo",
        "colab_type": "text"
      },
      "source": [
        "## **Selecionado elementos**"
      ]
    },
    {
      "cell_type": "markdown",
      "metadata": {
        "id": "cmCc1Ktp2KHj",
        "colab_type": "text"
      },
      "source": [
        "Para selecionar elementos do dicionário utiliza-se o método `values()`."
      ]
    },
    {
      "cell_type": "code",
      "metadata": {
        "id": "PFat79eG2Qbs",
        "colab_type": "code",
        "colab": {}
      },
      "source": [
        "UF_Brasil = {'TO':'Tocantins','GO':'Goiás','DF':'Distrito Federal','MG':'Minas Gerais'}"
      ],
      "execution_count": 0,
      "outputs": []
    },
    {
      "cell_type": "code",
      "metadata": {
        "id": "CpGTZzR42Qlr",
        "colab_type": "code",
        "colab": {
          "base_uri": "https://localhost:8080/",
          "height": 83
        },
        "outputId": "c146fbe3-3198-4c95-9880-a80bd64ef329"
      },
      "source": [
        "UF_Brasil\n"
      ],
      "execution_count": 11,
      "outputs": [
        {
          "output_type": "execute_result",
          "data": {
            "text/plain": [
              "{'DF': 'Distrito Federal',\n",
              " 'GO': 'Goiás',\n",
              " 'MG': 'Minas Gerais',\n",
              " 'TO': 'Tocantins'}"
            ]
          },
          "metadata": {
            "tags": []
          },
          "execution_count": 11
        }
      ]
    },
    {
      "cell_type": "code",
      "metadata": {
        "id": "dXx2QeRR2RAH",
        "colab_type": "code",
        "colab": {
          "base_uri": "https://localhost:8080/",
          "height": 33
        },
        "outputId": "917c577f-7cbf-4037-fb73-8efc83f952cf"
      },
      "source": [
        "#Selecionando todos os elementos do dicionário.\n",
        "(UF_Brasil.values())"
      ],
      "execution_count": 13,
      "outputs": [
        {
          "output_type": "execute_result",
          "data": {
            "text/plain": [
              "dict_values(['Tocantins', 'Goiás', 'Distrito Federal', 'Minas Gerais'])"
            ]
          },
          "metadata": {
            "tags": []
          },
          "execution_count": 13
        }
      ]
    },
    {
      "cell_type": "code",
      "metadata": {
        "id": "B3VSFWbn2b08",
        "colab_type": "code",
        "colab": {
          "base_uri": "https://localhost:8080/",
          "height": 83
        },
        "outputId": "e1f5ac98-9725-4853-f2f0-dc6d39e5fbb2"
      },
      "source": [
        "UF_Brasil"
      ],
      "execution_count": 14,
      "outputs": [
        {
          "output_type": "execute_result",
          "data": {
            "text/plain": [
              "{'DF': 'Distrito Federal',\n",
              " 'GO': 'Goiás',\n",
              " 'MG': 'Minas Gerais',\n",
              " 'TO': 'Tocantins'}"
            ]
          },
          "metadata": {
            "tags": []
          },
          "execution_count": 14
        }
      ]
    },
    {
      "cell_type": "code",
      "metadata": {
        "id": "7iLity8X2b5o",
        "colab_type": "code",
        "colab": {
          "base_uri": "https://localhost:8080/",
          "height": 33
        },
        "outputId": "a527bf37-dfd0-4e78-d1fc-bdf51a5310ae"
      },
      "source": [
        "#Selecionando um elementos especifico através de uma chave do dicionário.\n",
        "UF_Brasil['TO']"
      ],
      "execution_count": 15,
      "outputs": [
        {
          "output_type": "execute_result",
          "data": {
            "text/plain": [
              "'Tocantins'"
            ]
          },
          "metadata": {
            "tags": []
          },
          "execution_count": 15
        }
      ]
    },
    {
      "cell_type": "markdown",
      "metadata": {
        "id": "XK3p1AWN9EDK",
        "colab_type": "text"
      },
      "source": [
        "## **Selecionado Chaves**"
      ]
    },
    {
      "cell_type": "markdown",
      "metadata": {
        "id": "zfPLbwXa9OMt",
        "colab_type": "text"
      },
      "source": [
        "Para selecionar as chaves do dicionário utiliza-se o método `keys()`."
      ]
    },
    {
      "cell_type": "code",
      "metadata": {
        "id": "Lp01lD0K9R1c",
        "colab_type": "code",
        "colab": {}
      },
      "source": [
        "UF_Brasil = {'TO':'Tocantins','GO':'Goiás','DF':'Distrito Federal','MG':'Minas Gerais'}"
      ],
      "execution_count": 0,
      "outputs": []
    },
    {
      "cell_type": "code",
      "metadata": {
        "id": "XwLpjMZS9XZs",
        "colab_type": "code",
        "colab": {
          "base_uri": "https://localhost:8080/",
          "height": 83
        },
        "outputId": "a8ec43e0-3f98-47f2-fdc9-ec2369273c39"
      },
      "source": [
        "UF_Brasil"
      ],
      "execution_count": 17,
      "outputs": [
        {
          "output_type": "execute_result",
          "data": {
            "text/plain": [
              "{'DF': 'Distrito Federal',\n",
              " 'GO': 'Goiás',\n",
              " 'MG': 'Minas Gerais',\n",
              " 'TO': 'Tocantins'}"
            ]
          },
          "metadata": {
            "tags": []
          },
          "execution_count": 17
        }
      ]
    },
    {
      "cell_type": "code",
      "metadata": {
        "id": "X63DFdn19Z74",
        "colab_type": "code",
        "colab": {
          "base_uri": "https://localhost:8080/",
          "height": 33
        },
        "outputId": "667adc96-a836-41d0-8c0f-ff967fcdd768"
      },
      "source": [
        "#Selecionando todos as chaves do dicionário.\n",
        "(UF_Brasil.keys())"
      ],
      "execution_count": 18,
      "outputs": [
        {
          "output_type": "execute_result",
          "data": {
            "text/plain": [
              "dict_keys(['TO', 'GO', 'DF', 'MG'])"
            ]
          },
          "metadata": {
            "tags": []
          },
          "execution_count": 18
        }
      ]
    },
    {
      "cell_type": "markdown",
      "metadata": {
        "id": "aa29Thmc9hZk",
        "colab_type": "text"
      },
      "source": [
        "## **Selecionado Itens**"
      ]
    },
    {
      "cell_type": "markdown",
      "metadata": {
        "id": "YBiJYBr-9jxB",
        "colab_type": "text"
      },
      "source": [
        "Para selecionar os itens (chaves e seus elementos) do dicionário utiliza-se o método `items()`."
      ]
    },
    {
      "cell_type": "code",
      "metadata": {
        "id": "3_k0y8ln9mmm",
        "colab_type": "code",
        "colab": {}
      },
      "source": [
        "UF_Brasil = {'TO':'Tocantins','GO':'Goiás','DF':'Distrito Federal','MG':'Minas Gerais'}"
      ],
      "execution_count": 0,
      "outputs": []
    },
    {
      "cell_type": "code",
      "metadata": {
        "id": "gA3PQlp-9msn",
        "colab_type": "code",
        "colab": {
          "base_uri": "https://localhost:8080/",
          "height": 83
        },
        "outputId": "135a0763-2779-4506-dbd4-8b9a9acb1290"
      },
      "source": [
        "UF_Brasil"
      ],
      "execution_count": 22,
      "outputs": [
        {
          "output_type": "execute_result",
          "data": {
            "text/plain": [
              "{'DF': 'Distrito Federal',\n",
              " 'GO': 'Goiás',\n",
              " 'MG': 'Minas Gerais',\n",
              " 'TO': 'Tocantins'}"
            ]
          },
          "metadata": {
            "tags": []
          },
          "execution_count": 22
        }
      ]
    },
    {
      "cell_type": "code",
      "metadata": {
        "id": "dbkhXZ6s9mzU",
        "colab_type": "code",
        "colab": {
          "base_uri": "https://localhost:8080/",
          "height": 33
        },
        "outputId": "6b9bc961-c78c-4267-bee2-4bd268352b08"
      },
      "source": [
        "(UF_Brasil.items())"
      ],
      "execution_count": 21,
      "outputs": [
        {
          "output_type": "execute_result",
          "data": {
            "text/plain": [
              "dict_items([('TO', 'Tocantins'), ('GO', 'Goiás'), ('DF', 'Distrito Federal'), ('MG', 'Minas Gerais')])"
            ]
          },
          "metadata": {
            "tags": []
          },
          "execution_count": 21
        }
      ]
    },
    {
      "cell_type": "markdown",
      "metadata": {
        "id": "wU9rMD7D93xB",
        "colab_type": "text"
      },
      "source": [
        "## **Verificando se o elemento específico contém no dicionário**"
      ]
    },
    {
      "cell_type": "markdown",
      "metadata": {
        "id": "gM5KEEGA96eI",
        "colab_type": "text"
      },
      "source": [
        "Para verificar se um elemento específico contém no objeto dicionário utiliza-se o operador `in` (contém) e o método `values()`.\n",
        "\n",
        "Retornando True quando no dicionário existe o elemento passado e false quando não existir."
      ]
    },
    {
      "cell_type": "code",
      "metadata": {
        "id": "NEptEpXZ-BYT",
        "colab_type": "code",
        "colab": {}
      },
      "source": [
        "UF_Brasil = {'TO':'Tocantins','GO':'Goiás','DF':'Distrito Federal','MG':'Minas Gerais'}"
      ],
      "execution_count": 0,
      "outputs": []
    },
    {
      "cell_type": "code",
      "metadata": {
        "id": "fddRQvIr-Beo",
        "colab_type": "code",
        "colab": {
          "base_uri": "https://localhost:8080/",
          "height": 33
        },
        "outputId": "48cd0161-f6e3-49f2-a3c5-e22b06486586"
      },
      "source": [
        " ('Minas Gerais' in UF_Brasil.values())"
      ],
      "execution_count": 24,
      "outputs": [
        {
          "output_type": "execute_result",
          "data": {
            "text/plain": [
              "True"
            ]
          },
          "metadata": {
            "tags": []
          },
          "execution_count": 24
        }
      ]
    },
    {
      "cell_type": "markdown",
      "metadata": {
        "id": "kfuhJSGm-Hr0",
        "colab_type": "text"
      },
      "source": [
        "## **Verificando se a chave específica contém no dicionário**"
      ]
    },
    {
      "cell_type": "markdown",
      "metadata": {
        "id": "LBCPxoIG-Pk5",
        "colab_type": "text"
      },
      "source": [
        "Para verificar se um elemento específico contém no objeto dicionário utiliza-se o operador `in` (contém).\n",
        "Retornando True quando no dicionário existe o elemento passado e false quando não existir:"
      ]
    },
    {
      "cell_type": "code",
      "metadata": {
        "id": "AWhfqeDX-Tva",
        "colab_type": "code",
        "colab": {}
      },
      "source": [
        "UF_Brasil = {'TO':'Tocantins','GO':'Goiás','DF':'Distrito Federal','MG':'Minas Gerais'}"
      ],
      "execution_count": 0,
      "outputs": []
    },
    {
      "cell_type": "code",
      "metadata": {
        "id": "csbST2nk-T_k",
        "colab_type": "code",
        "colab": {}
      },
      "source": [
        " ('MG' in UF_Brasil)"
      ],
      "execution_count": 0,
      "outputs": []
    },
    {
      "cell_type": "markdown",
      "metadata": {
        "id": "auOTlHwo-Yfc",
        "colab_type": "text"
      },
      "source": [
        "## **Verificando tamanho do dicionário**"
      ]
    },
    {
      "cell_type": "markdown",
      "metadata": {
        "id": "9GjDQeIs-ath",
        "colab_type": "text"
      },
      "source": [
        "Para obter o valor da quantidade de elementos que estão dentro da tupla utiliza-se a função` len`(ler)."
      ]
    },
    {
      "cell_type": "code",
      "metadata": {
        "id": "kR1FLXf0-O-0",
        "colab_type": "code",
        "colab": {}
      },
      "source": [
        "UF_Brasil = {'TO':'Tocantins','GO':'Goiás','DF':'Distrito Federal','MG':'Minas Gerais'}"
      ],
      "execution_count": 0,
      "outputs": []
    },
    {
      "cell_type": "code",
      "metadata": {
        "id": "AR2x8Cdr-emC",
        "colab_type": "code",
        "colab": {
          "base_uri": "https://localhost:8080/",
          "height": 33
        },
        "outputId": "4dc78999-708e-4c1b-9014-9369d8eb98d7"
      },
      "source": [
        "len(UF_Brasil)"
      ],
      "execution_count": 26,
      "outputs": [
        {
          "output_type": "execute_result",
          "data": {
            "text/plain": [
              "4"
            ]
          },
          "metadata": {
            "tags": []
          },
          "execution_count": 26
        }
      ]
    },
    {
      "cell_type": "markdown",
      "metadata": {
        "id": "fjiUjtNr-rD9",
        "colab_type": "text"
      },
      "source": [
        "## **Percorrendo dicionário**"
      ]
    },
    {
      "cell_type": "markdown",
      "metadata": {
        "id": "K_SDKCpP-tWg",
        "colab_type": "text"
      },
      "source": [
        "Para percorrer um dicionário utiliza-se o laço de repetição for juntamente com o método `len`(ler). Então para cada item vai ser impresso a chave e elemento correspondente."
      ]
    },
    {
      "cell_type": "code",
      "metadata": {
        "id": "Zl9dVE_I-vyH",
        "colab_type": "code",
        "colab": {}
      },
      "source": [
        "UF_Brasil = {'TO':'Tocantins','GO':'Goiás','DF':'Distrito Federal','MG':'Minas Gerais'}"
      ],
      "execution_count": 0,
      "outputs": []
    },
    {
      "cell_type": "code",
      "metadata": {
        "id": "OOpOq729-v7j",
        "colab_type": "code",
        "colab": {
          "base_uri": "https://localhost:8080/",
          "height": 83
        },
        "outputId": "5fe34983-d46c-4b10-a2ed-05713acab7f8"
      },
      "source": [
        "for k,v in UF_Brasil.items():\n",
        "  print (f'Chave: {k} é elemento: {v}')"
      ],
      "execution_count": 28,
      "outputs": [
        {
          "output_type": "stream",
          "text": [
            "Chave: TO é elemento: Tocantins\n",
            "Chave: GO é elemento: Goiás\n",
            "Chave: DF é elemento: Distrito Federal\n",
            "Chave: MG é elemento: Minas Gerais\n"
          ],
          "name": "stdout"
        }
      ]
    },
    {
      "cell_type": "markdown",
      "metadata": {
        "id": "HHqxz3rt-1Sf",
        "colab_type": "text"
      },
      "source": [
        "## **Remover itens do dicionário**"
      ]
    },
    {
      "cell_type": "markdown",
      "metadata": {
        "id": "2gvrVspT-2uV",
        "colab_type": "text"
      },
      "source": [
        "Para remover um item (chave e elemento) do dicionário utiliza-se o **statement **`del`."
      ]
    },
    {
      "cell_type": "code",
      "metadata": {
        "id": "zictW_9gBb-Y",
        "colab_type": "code",
        "colab": {}
      },
      "source": [
        "UF_Brasil = {'TO':'Tocantins','GO':'Goiás','DF':'Distrito Federal','MG':'Minas Gerais'}"
      ],
      "execution_count": 0,
      "outputs": []
    },
    {
      "cell_type": "code",
      "metadata": {
        "id": "rH_vv2PRBcRQ",
        "colab_type": "code",
        "colab": {
          "base_uri": "https://localhost:8080/",
          "height": 83
        },
        "outputId": "15d2c995-5500-4282-85f9-da05781cd616"
      },
      "source": [
        "UF_Brasil"
      ],
      "execution_count": 30,
      "outputs": [
        {
          "output_type": "execute_result",
          "data": {
            "text/plain": [
              "{'DF': 'Distrito Federal',\n",
              " 'GO': 'Goiás',\n",
              " 'MG': 'Minas Gerais',\n",
              " 'TO': 'Tocantins'}"
            ]
          },
          "metadata": {
            "tags": []
          },
          "execution_count": 30
        }
      ]
    },
    {
      "cell_type": "code",
      "metadata": {
        "id": "2dvYDFjcBcYg",
        "colab_type": "code",
        "colab": {}
      },
      "source": [
        "del UF_Brasil['GO']"
      ],
      "execution_count": 0,
      "outputs": []
    },
    {
      "cell_type": "code",
      "metadata": {
        "id": "sKnKk_CEBces",
        "colab_type": "code",
        "colab": {
          "base_uri": "https://localhost:8080/",
          "height": 33
        },
        "outputId": "edbef1ed-8809-4fe9-fa52-9f1c29b43b6f"
      },
      "source": [
        "UF_Brasil"
      ],
      "execution_count": 32,
      "outputs": [
        {
          "output_type": "execute_result",
          "data": {
            "text/plain": [
              "{'DF': 'Distrito Federal', 'MG': 'Minas Gerais', 'TO': 'Tocantins'}"
            ]
          },
          "metadata": {
            "tags": []
          },
          "execution_count": 32
        }
      ]
    },
    {
      "cell_type": "markdown",
      "metadata": {
        "id": "PZEfBWqTBmSR",
        "colab_type": "text"
      },
      "source": [
        "Além do statement del, pode-se usar o método pop()o no qual ao contrario do del tem o benefício de personalizar exceção caso o item não exista no dicionário, evitando assim a apresentação de erros."
      ]
    },
    {
      "cell_type": "code",
      "metadata": {
        "id": "L2Zem_hyB7Tl",
        "colab_type": "code",
        "colab": {}
      },
      "source": [
        "UF_Brasil = {'TO':'Tocantins','GO':'Goiás','DF':'Distrito Federal','MG':'Minas Gerais'}"
      ],
      "execution_count": 0,
      "outputs": []
    },
    {
      "cell_type": "code",
      "metadata": {
        "id": "BLvdQKyWB70s",
        "colab_type": "code",
        "colab": {
          "base_uri": "https://localhost:8080/",
          "height": 83
        },
        "outputId": "b0a77a22-bdc4-4323-913b-90739b2a5fc7"
      },
      "source": [
        "UF_Brasil"
      ],
      "execution_count": 34,
      "outputs": [
        {
          "output_type": "execute_result",
          "data": {
            "text/plain": [
              "{'DF': 'Distrito Federal',\n",
              " 'GO': 'Goiás',\n",
              " 'MG': 'Minas Gerais',\n",
              " 'TO': 'Tocantins'}"
            ]
          },
          "metadata": {
            "tags": []
          },
          "execution_count": 34
        }
      ]
    },
    {
      "cell_type": "code",
      "metadata": {
        "id": "DdeJXy_DB-Mn",
        "colab_type": "code",
        "colab": {
          "base_uri": "https://localhost:8080/",
          "height": 33
        },
        "outputId": "fb0292cf-980d-41a9-f77f-0c98c4c0384b"
      },
      "source": [
        "(UF_Brasil.pop('GO', 'Item não encontrado'))"
      ],
      "execution_count": 35,
      "outputs": [
        {
          "output_type": "execute_result",
          "data": {
            "text/plain": [
              "'Goiás'"
            ]
          },
          "metadata": {
            "tags": []
          },
          "execution_count": 35
        }
      ]
    },
    {
      "cell_type": "code",
      "metadata": {
        "id": "PKH5OaTKCBPF",
        "colab_type": "code",
        "colab": {
          "base_uri": "https://localhost:8080/",
          "height": 33
        },
        "outputId": "f856acc8-7bed-4bab-d23f-2ef14e19a3d0"
      },
      "source": [
        "UF_Brasil"
      ],
      "execution_count": 36,
      "outputs": [
        {
          "output_type": "execute_result",
          "data": {
            "text/plain": [
              "{'DF': 'Distrito Federal', 'MG': 'Minas Gerais', 'TO': 'Tocantins'}"
            ]
          },
          "metadata": {
            "tags": []
          },
          "execution_count": 36
        }
      ]
    },
    {
      "cell_type": "code",
      "metadata": {
        "id": "K3poUAZwCDs-",
        "colab_type": "code",
        "colab": {
          "base_uri": "https://localhost:8080/",
          "height": 33
        },
        "outputId": "8ded39b5-abad-4439-b366-00137e26208e"
      },
      "source": [
        "(UF_Brasil.pop('GO', 'Item não encontrado'))"
      ],
      "execution_count": 37,
      "outputs": [
        {
          "output_type": "execute_result",
          "data": {
            "text/plain": [
              "'Item não encontrado'"
            ]
          },
          "metadata": {
            "tags": []
          },
          "execution_count": 37
        }
      ]
    },
    {
      "cell_type": "markdown",
      "metadata": {
        "id": "145Q3j-MC0v6",
        "colab_type": "text"
      },
      "source": [
        "# <center>**Bibliografia:**<center>\n",
        "<center>\n",
        "\n",
        "Eduardo, Luis. **Python para Desenvolvedores**. 2ªed. Rio de Janeiro,2010 (pg. 45-49).\n",
        "\n",
        "Luiz, Mark. **Aprendendo Python**. 2ªed. Bookman, 2007 (p.123- 131).\n",
        "\n",
        "<center>"
      ]
    }
  ]
}